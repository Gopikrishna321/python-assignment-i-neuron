{
  "nbformat": 4,
  "nbformat_minor": 0,
  "metadata": {
    "colab": {
      "name": "week2 assignment.ipynb",
      "provenance": [],
      "authorship_tag": "ABX9TyOdQ9/WgJ05BXTxBMnJF6r2",
      "include_colab_link": true
    },
    "kernelspec": {
      "name": "python3",
      "display_name": "Python 3"
    },
    "language_info": {
      "name": "python"
    }
  },
  "cells": [
    {
      "cell_type": "markdown",
      "metadata": {
        "id": "view-in-github",
        "colab_type": "text"
      },
      "source": [
        "<a href=\"https://colab.research.google.com/github/Gopikrishna321/python-assignment-i-neuron/blob/main/week2_assignment.ipynb\" target=\"_parent\"><img src=\"https://colab.research.google.com/assets/colab-badge.svg\" alt=\"Open In Colab\"/></a>"
      ]
    },
    {
      "cell_type": "code",
      "execution_count": 1,
      "metadata": {
        "colab": {
          "base_uri": "https://localhost:8080/"
        },
        "id": "iZGVq9bxMJfk",
        "outputId": "004b4ee5-c79a-4be4-cb33-b413d5e6b440"
      },
      "outputs": [
        {
          "output_type": "stream",
          "name": "stdout",
          "text": [
            "* \n",
            "* * \n",
            "* * * \n",
            "* * * * \n",
            "* * * * * \n",
            "* * * * \n",
            "* * * \n",
            "* * \n",
            "* \n"
          ]
        }
      ],
      "source": [
        "n=5\n",
        "for i in range(n):\n",
        "  print(\"* \"*(i+1))\n",
        "for i in range(n-1):\n",
        "  print(\"* \"*(n-1-i))"
      ]
    },
    {
      "cell_type": "code",
      "source": [
        "n=input()\n",
        "print(n[::-1])"
      ],
      "metadata": {
        "id": "5L5Ah0a6MS0u"
      },
      "execution_count": null,
      "outputs": []
    }
  ]
}