{
  "nbformat": 4,
  "nbformat_minor": 0,
  "metadata": {
    "colab": {
      "name": "Untitled4.ipynb",
      "provenance": []
    },
    "kernelspec": {
      "name": "python3",
      "display_name": "Python 3"
    },
    "language_info": {
      "name": "python"
    }
  },
  "cells": [
    {
      "cell_type": "code",
      "execution_count": null,
      "metadata": {
        "id": "DDZhAZEe9UoU"
      },
      "outputs": [],
      "source": [
        "# week 1 assignment\n",
        "\n",
        "# question 1\n",
        "\n",
        "\n",
        "l=[]\n",
        "for i in range(2000,3201):\n",
        "  if (i%7 == 0 ) and (i%5)!=0 :\n",
        "    l.append(i)\n",
        "print(*l,sep=\", \")"
      ]
    },
    {
      "cell_type": "code",
      "source": [
        "#question 2\n",
        "\n",
        "\n",
        "s=input()\n",
        "print(s[::-1])"
      ],
      "metadata": {
        "id": "a-WMdW7V9dbX"
      },
      "execution_count": null,
      "outputs": []
    },
    {
      "cell_type": "code",
      "source": [
        "#question 3\n",
        "\n",
        "\n",
        "d=12\n",
        "r=d//2\n",
        "volume = 4/3*(22/7)*(r*r*r)\n",
        "print(volume)\n",
        "\n",
        "\n",
        "\n"
      ],
      "metadata": {
        "id": "JjvrRF-i-Xzw"
      },
      "execution_count": null,
      "outputs": []
    }
  ]
}